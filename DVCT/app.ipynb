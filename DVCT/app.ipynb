{
 "cells": [
  {
   "cell_type": "markdown",
   "metadata": {},
   "source": [
    "### Import"
   ]
  },
  {
   "cell_type": "code",
   "execution_count": 1,
   "metadata": {},
   "outputs": [
    {
     "name": "stderr",
     "output_type": "stream",
     "text": [
      "/home/dingkaixin/miniconda3/envs/ldm/lib/python3.8/site-packages/tqdm/auto.py:22: TqdmWarning: IProgress not found. Please update jupyter and ipywidgets. See https://ipywidgets.readthedocs.io/en/stable/user_install.html\n",
      "  from .autonotebook import tqdm as notebook_tqdm\n"
     ]
    }
   ],
   "source": [
    "from main import *\n",
    "from gen_image import *\n",
    "from ptp_inversion import load_512"
   ]
  },
  {
   "cell_type": "markdown",
   "metadata": {},
   "source": [
    "### Init models"
   ]
  },
  {
   "cell_type": "code",
   "execution_count": 3,
   "metadata": {},
   "outputs": [
    {
     "name": "stderr",
     "output_type": "stream",
     "text": [
      "The tokenizer class you load from this checkpoint is not the same type as the class this function is called from. It may result in unexpected tokenization. \n",
      "The tokenizer class you load from this checkpoint is 'CLIPTokenizer'. \n",
      "The class this function is called from is 'MultiTokenCLIPTokenizer'.\n",
      "/home/dingkaixin/miniconda3/envs/ldm/lib/python3.8/site-packages/transformers/models/clip/feature_extraction_clip.py:28: FutureWarning: The class CLIPFeatureExtractor is deprecated and will be removed in version 5 of Transformers. Please use CLIPImageProcessor instead.\n",
      "  warnings.warn(\n",
      "The config attributes {'dropout': 0.0} were passed to UNet2DConditionModel, but are not expected and will be ignored. Please verify your config.json configuration file.\n",
      "/home/dingkaixin/miniconda3/envs/ldm/lib/python3.8/site-packages/diffusers/pipelines/stable_diffusion/pipeline_stable_diffusion.py:101: FutureWarning: The configuration file of this scheduler: DDIMScheduler {\n",
      "  \"_class_name\": \"DDIMScheduler\",\n",
      "  \"_diffusers_version\": \"0.10.1\",\n",
      "  \"beta_end\": 0.012,\n",
      "  \"beta_schedule\": \"scaled_linear\",\n",
      "  \"beta_start\": 0.00085,\n",
      "  \"clip_sample\": false,\n",
      "  \"num_train_timesteps\": 1000,\n",
      "  \"prediction_type\": \"epsilon\",\n",
      "  \"set_alpha_to_one\": false,\n",
      "  \"steps_offset\": 0,\n",
      "  \"trained_betas\": null\n",
      "}\n",
      " is outdated. `steps_offset` should be set to 1 instead of 0. Please make sure to update the config accordingly as leaving `steps_offset` might led to incorrect results in future versions. If you have downloaded this checkpoint from the Hugging Face Hub, it would be very nice if you could open a Pull request for the `scheduler/scheduler_config.json` file\n",
      "  deprecate(\"steps_offset!=1\", \"1.0.0\", deprecation_message, standard_warn=False)\n",
      "The tokenizer class you load from this checkpoint is not the same type as the class this function is called from. It may result in unexpected tokenization. \n",
      "The tokenizer class you load from this checkpoint is 'CLIPTokenizer'. \n",
      "The class this function is called from is 'MultiTokenCLIPTokenizer'.\n"
     ]
    }
   ],
   "source": [
    "model_path = \"../../s\"\n",
    "generator, ldm_stable, device = init_model(model_path)\n",
    "text_encoder = CLIPTextModel.from_pretrained(model_path, subfolder=\"text_encoder\",\n",
    "                                                 revision=False)\n",
    "text_encoder = text_encoder.to(device)\n",
    "tokenizer = MultiTokenCLIPTokenizer.from_pretrained(model_path, subfolder=\"tokenizer\")\n"
   ]
  },
  {
   "cell_type": "markdown",
   "metadata": {},
   "source": [
    "#### Output Dir"
   ]
  },
  {
   "cell_type": "code",
   "execution_count": 4,
   "metadata": {},
   "outputs": [
    {
     "data": {
      "text/html": [
       "<pre style=\"white-space:pre;overflow-x:auto;line-height:normal;font-family:Menlo,'DejaVu Sans Mono',consolas,'Courier New',monospace\"><span style=\"color: #800000; text-decoration-color: #800000\">╭─────────────────────────────── </span><span style=\"color: #800000; text-decoration-color: #800000; font-weight: bold\">Traceback </span><span style=\"color: #bf7f7f; text-decoration-color: #bf7f7f; font-weight: bold\">(most recent call last)</span><span style=\"color: #800000; text-decoration-color: #800000\"> ────────────────────────────────╮</span>\n",
       "<span style=\"color: #800000; text-decoration-color: #800000\">│</span> in <span style=\"color: #00ff00; text-decoration-color: #00ff00\">&lt;module&gt;</span>:<span style=\"color: #0000ff; text-decoration-color: #0000ff\">34</span>                                                                                   <span style=\"color: #800000; text-decoration-color: #800000\">│</span>\n",
       "<span style=\"color: #800000; text-decoration-color: #800000\">│</span>                                                                                                  <span style=\"color: #800000; text-decoration-color: #800000\">│</span>\n",
       "<span style=\"color: #800000; text-decoration-color: #800000\">│</span>   <span style=\"color: #7f7f7f; text-decoration-color: #7f7f7f\">31 </span><span style=\"color: #0000ff; text-decoration-color: #0000ff\">else</span>:                                                                                       <span style=\"color: #800000; text-decoration-color: #800000\">│</span>\n",
       "<span style=\"color: #800000; text-decoration-color: #800000\">│</span>   <span style=\"color: #7f7f7f; text-decoration-color: #7f7f7f\">32 </span><span style=\"color: #7f7f7f; text-decoration-color: #7f7f7f\">│   </span>ref_embedding_dir = <span style=\"color: #808000; text-decoration-color: #808000\">\"./output/\"</span> + ref_embedding_dir_path + <span style=\"color: #808000; text-decoration-color: #808000\">\"/real-cat-mouse_04_27_20</span>    <span style=\"color: #800000; text-decoration-color: #800000\">│</span>\n",
       "<span style=\"color: #800000; text-decoration-color: #800000\">│</span>   <span style=\"color: #7f7f7f; text-decoration-color: #7f7f7f\">33 </span><span style=\"color: #7f7f7f; text-decoration-color: #7f7f7f\">│   </span>src_embedding_dir = <span style=\"color: #808000; text-decoration-color: #808000\">\"./output/\"</span> + src_embedding_dir_path + <span style=\"color: #808000; text-decoration-color: #808000\">\"/real-cat_04_27_2024_231</span>    <span style=\"color: #800000; text-decoration-color: #800000\">│</span>\n",
       "<span style=\"color: #800000; text-decoration-color: #800000\">│</span> <span style=\"color: #800000; text-decoration-color: #800000\">❱ </span>34 ref_file_name = get_image_file(os.path.join(_image_dir, _ref_file_name)).split(<span style=\"color: #808000; text-decoration-color: #808000\">'.'</span>)[<span style=\"color: #0000ff; text-decoration-color: #0000ff\">0</span>]      <span style=\"color: #800000; text-decoration-color: #800000\">│</span>\n",
       "<span style=\"color: #800000; text-decoration-color: #800000\">│</span>   <span style=\"color: #7f7f7f; text-decoration-color: #7f7f7f\">35 </span>src_file_name = get_image_file(os.path.join(_image_dir, _src_file_name)).split(<span style=\"color: #808000; text-decoration-color: #808000\">'.'</span>)[<span style=\"color: #0000ff; text-decoration-color: #0000ff\">0</span>]      <span style=\"color: #800000; text-decoration-color: #800000\">│</span>\n",
       "<span style=\"color: #800000; text-decoration-color: #800000\">│</span>   <span style=\"color: #7f7f7f; text-decoration-color: #7f7f7f\">36 </span>                                                                                            <span style=\"color: #800000; text-decoration-color: #800000\">│</span>\n",
       "<span style=\"color: #800000; text-decoration-color: #800000\">│</span>   <span style=\"color: #7f7f7f; text-decoration-color: #7f7f7f\">37 </span>                                                                                            <span style=\"color: #800000; text-decoration-color: #800000\">│</span>\n",
       "<span style=\"color: #800000; text-decoration-color: #800000\">│</span>                                                                                                  <span style=\"color: #800000; text-decoration-color: #800000\">│</span>\n",
       "<span style=\"color: #800000; text-decoration-color: #800000\">│</span> in <span style=\"color: #00ff00; text-decoration-color: #00ff00\">get_image_file</span>:<span style=\"color: #0000ff; text-decoration-color: #0000ff\">9</span>                                                                              <span style=\"color: #800000; text-decoration-color: #800000\">│</span>\n",
       "<span style=\"color: #800000; text-decoration-color: #800000\">│</span>                                                                                                  <span style=\"color: #800000; text-decoration-color: #800000\">│</span>\n",
       "<span style=\"color: #800000; text-decoration-color: #800000\">│</span>   <span style=\"color: #7f7f7f; text-decoration-color: #7f7f7f\"> 6 </span>                                                                                            <span style=\"color: #800000; text-decoration-color: #800000\">│</span>\n",
       "<span style=\"color: #800000; text-decoration-color: #800000\">│</span>   <span style=\"color: #7f7f7f; text-decoration-color: #7f7f7f\"> 7 </span><span style=\"color: #0000ff; text-decoration-color: #0000ff\">def</span> <span style=\"color: #00ff00; text-decoration-color: #00ff00\">get_image_file</span>(path):                                                                   <span style=\"color: #800000; text-decoration-color: #800000\">│</span>\n",
       "<span style=\"color: #800000; text-decoration-color: #800000\">│</span>   <span style=\"color: #7f7f7f; text-decoration-color: #7f7f7f\"> 8 </span><span style=\"color: #7f7f7f; text-decoration-color: #7f7f7f\">│   </span>img_extensions = (<span style=\"color: #808000; text-decoration-color: #808000\">'.png'</span>, <span style=\"color: #808000; text-decoration-color: #808000\">'.jpg'</span>, <span style=\"color: #808000; text-decoration-color: #808000\">'.jpeg'</span>, <span style=\"color: #808000; text-decoration-color: #808000\">'.bmp'</span>, <span style=\"color: #808000; text-decoration-color: #808000\">'.gif'</span>)                              <span style=\"color: #800000; text-decoration-color: #800000\">│</span>\n",
       "<span style=\"color: #800000; text-decoration-color: #800000\">│</span> <span style=\"color: #800000; text-decoration-color: #800000\">❱ </span> 9 <span style=\"color: #7f7f7f; text-decoration-color: #7f7f7f\">│   </span>img_files = [f <span style=\"color: #0000ff; text-decoration-color: #0000ff\">for</span> f <span style=\"color: #ff00ff; text-decoration-color: #ff00ff\">in</span> os.listdir(path) <span style=\"color: #0000ff; text-decoration-color: #0000ff\">if</span> f.lower().endswith(img_extensions)]         <span style=\"color: #800000; text-decoration-color: #800000\">│</span>\n",
       "<span style=\"color: #800000; text-decoration-color: #800000\">│</span>   <span style=\"color: #7f7f7f; text-decoration-color: #7f7f7f\">10 </span><span style=\"color: #7f7f7f; text-decoration-color: #7f7f7f\">│   </span><span style=\"color: #0000ff; text-decoration-color: #0000ff\">return</span> img_files[<span style=\"color: #0000ff; text-decoration-color: #0000ff\">0</span>]                                                                     <span style=\"color: #800000; text-decoration-color: #800000\">│</span>\n",
       "<span style=\"color: #800000; text-decoration-color: #800000\">│</span>   <span style=\"color: #7f7f7f; text-decoration-color: #7f7f7f\">11 </span>src_embedding_dir_path = <span style=\"color: #808000; text-decoration-color: #808000\">\"dog_hat\"</span>                                                          <span style=\"color: #800000; text-decoration-color: #800000\">│</span>\n",
       "<span style=\"color: #800000; text-decoration-color: #800000\">│</span>   <span style=\"color: #7f7f7f; text-decoration-color: #7f7f7f\">12 </span>ref_embedding_dir_path = <span style=\"color: #808000; text-decoration-color: #808000\">\"cat_hat\"</span>                                                          <span style=\"color: #800000; text-decoration-color: #800000\">│</span>\n",
       "<span style=\"color: #800000; text-decoration-color: #800000\">╰──────────────────────────────────────────────────────────────────────────────────────────────────╯</span>\n",
       "<span style=\"color: #ff0000; text-decoration-color: #ff0000; font-weight: bold\">FileNotFoundError: </span><span style=\"font-weight: bold\">[</span>Errno <span style=\"color: #008080; text-decoration-color: #008080; font-weight: bold\">2</span><span style=\"font-weight: bold\">]</span> No such file or directory: <span style=\"color: #008000; text-decoration-color: #008000\">'../examples/cat_hat'</span>\n",
       "</pre>\n"
      ],
      "text/plain": [
       "\u001b[31m╭─\u001b[0m\u001b[31m──────────────────────────────\u001b[0m\u001b[31m \u001b[0m\u001b[1;31mTraceback \u001b[0m\u001b[1;2;31m(most recent call last)\u001b[0m\u001b[31m \u001b[0m\u001b[31m───────────────────────────────\u001b[0m\u001b[31m─╮\u001b[0m\n",
       "\u001b[31m│\u001b[0m in \u001b[92m<module>\u001b[0m:\u001b[94m34\u001b[0m                                                                                   \u001b[31m│\u001b[0m\n",
       "\u001b[31m│\u001b[0m                                                                                                  \u001b[31m│\u001b[0m\n",
       "\u001b[31m│\u001b[0m   \u001b[2m31 \u001b[0m\u001b[94melse\u001b[0m:                                                                                       \u001b[31m│\u001b[0m\n",
       "\u001b[31m│\u001b[0m   \u001b[2m32 \u001b[0m\u001b[2m│   \u001b[0mref_embedding_dir = \u001b[33m\"\u001b[0m\u001b[33m./output/\u001b[0m\u001b[33m\"\u001b[0m + ref_embedding_dir_path + \u001b[33m\"\u001b[0m\u001b[33m/real-cat-mouse_04_27_20\u001b[0m    \u001b[31m│\u001b[0m\n",
       "\u001b[31m│\u001b[0m   \u001b[2m33 \u001b[0m\u001b[2m│   \u001b[0msrc_embedding_dir = \u001b[33m\"\u001b[0m\u001b[33m./output/\u001b[0m\u001b[33m\"\u001b[0m + src_embedding_dir_path + \u001b[33m\"\u001b[0m\u001b[33m/real-cat_04_27_2024_231\u001b[0m    \u001b[31m│\u001b[0m\n",
       "\u001b[31m│\u001b[0m \u001b[31m❱ \u001b[0m34 ref_file_name = get_image_file(os.path.join(_image_dir, _ref_file_name)).split(\u001b[33m'\u001b[0m\u001b[33m.\u001b[0m\u001b[33m'\u001b[0m)[\u001b[94m0\u001b[0m]      \u001b[31m│\u001b[0m\n",
       "\u001b[31m│\u001b[0m   \u001b[2m35 \u001b[0msrc_file_name = get_image_file(os.path.join(_image_dir, _src_file_name)).split(\u001b[33m'\u001b[0m\u001b[33m.\u001b[0m\u001b[33m'\u001b[0m)[\u001b[94m0\u001b[0m]      \u001b[31m│\u001b[0m\n",
       "\u001b[31m│\u001b[0m   \u001b[2m36 \u001b[0m                                                                                            \u001b[31m│\u001b[0m\n",
       "\u001b[31m│\u001b[0m   \u001b[2m37 \u001b[0m                                                                                            \u001b[31m│\u001b[0m\n",
       "\u001b[31m│\u001b[0m                                                                                                  \u001b[31m│\u001b[0m\n",
       "\u001b[31m│\u001b[0m in \u001b[92mget_image_file\u001b[0m:\u001b[94m9\u001b[0m                                                                              \u001b[31m│\u001b[0m\n",
       "\u001b[31m│\u001b[0m                                                                                                  \u001b[31m│\u001b[0m\n",
       "\u001b[31m│\u001b[0m   \u001b[2m 6 \u001b[0m                                                                                            \u001b[31m│\u001b[0m\n",
       "\u001b[31m│\u001b[0m   \u001b[2m 7 \u001b[0m\u001b[94mdef\u001b[0m \u001b[92mget_image_file\u001b[0m(path):                                                                   \u001b[31m│\u001b[0m\n",
       "\u001b[31m│\u001b[0m   \u001b[2m 8 \u001b[0m\u001b[2m│   \u001b[0mimg_extensions = (\u001b[33m'\u001b[0m\u001b[33m.png\u001b[0m\u001b[33m'\u001b[0m, \u001b[33m'\u001b[0m\u001b[33m.jpg\u001b[0m\u001b[33m'\u001b[0m, \u001b[33m'\u001b[0m\u001b[33m.jpeg\u001b[0m\u001b[33m'\u001b[0m, \u001b[33m'\u001b[0m\u001b[33m.bmp\u001b[0m\u001b[33m'\u001b[0m, \u001b[33m'\u001b[0m\u001b[33m.gif\u001b[0m\u001b[33m'\u001b[0m)                              \u001b[31m│\u001b[0m\n",
       "\u001b[31m│\u001b[0m \u001b[31m❱ \u001b[0m 9 \u001b[2m│   \u001b[0mimg_files = [f \u001b[94mfor\u001b[0m f \u001b[95min\u001b[0m os.listdir(path) \u001b[94mif\u001b[0m f.lower().endswith(img_extensions)]         \u001b[31m│\u001b[0m\n",
       "\u001b[31m│\u001b[0m   \u001b[2m10 \u001b[0m\u001b[2m│   \u001b[0m\u001b[94mreturn\u001b[0m img_files[\u001b[94m0\u001b[0m]                                                                     \u001b[31m│\u001b[0m\n",
       "\u001b[31m│\u001b[0m   \u001b[2m11 \u001b[0msrc_embedding_dir_path = \u001b[33m\"\u001b[0m\u001b[33mdog_hat\u001b[0m\u001b[33m\"\u001b[0m                                                          \u001b[31m│\u001b[0m\n",
       "\u001b[31m│\u001b[0m   \u001b[2m12 \u001b[0mref_embedding_dir_path = \u001b[33m\"\u001b[0m\u001b[33mcat_hat\u001b[0m\u001b[33m\"\u001b[0m                                                          \u001b[31m│\u001b[0m\n",
       "\u001b[31m╰──────────────────────────────────────────────────────────────────────────────────────────────────╯\u001b[0m\n",
       "\u001b[1;91mFileNotFoundError: \u001b[0m\u001b[1m[\u001b[0mErrno \u001b[1;36m2\u001b[0m\u001b[1m]\u001b[0m No such file or directory: \u001b[32m'../examples/cat_hat'\u001b[0m\n"
      ]
     },
     "metadata": {},
     "output_type": "display_data"
    }
   ],
   "source": [
    "\n",
    "import datetime\n",
    "from ptp_inversion import Inversion, make_controller\n",
    "import ptp_utils\n",
    "inversion = Inversion(ldm_stable)\n",
    "inversion.init_prompt(\"\")\n",
    "\n",
    "def get_image_file(path):\n",
    "    img_extensions = ('.png', '.jpg', '.jpeg', '.bmp', '.gif')\n",
    "    img_files = [f for f in os.listdir(path) if f.lower().endswith(img_extensions)]\n",
    "    return img_files[0]\n",
    "src_embedding_dir_path = \"dog_hat\"\n",
    "ref_embedding_dir_path = \"cat_hat\"\n",
    "embedding_dir_path = src_embedding_dir_path + \"-\" + ref_embedding_dir_path\n",
    "_src_file_name = \"dog_hat\"\n",
    "_ref_file_name = \"cat_hat\"\n",
    "_image_dir = \"./examples\"\n",
    "steps = 1000\n",
    "recaption = False\n",
    "if steps == 1000:\n",
    "    if recaption is True:\n",
    "        ref_embedding_dir = \"./output/\" + ref_embedding_dir_path + \"/dog_hat_05_09_2024_0715_recaption/\"\n",
    "        src_embedding_dir = \"./output/\" + src_embedding_dir_path + \"/dog_05_09_2024_0009_recaption/\"\n",
    "        # ref_embedding_dir = \"./output/\" + ref_embedding_dir_path + \"/real-cat-mouse_05_09_2024_0827_recaption/\"\n",
    "        # src_embedding_dir = \"./output/\" + src_embedding_dir_path + \"/real-cat_05_09_2024_0750_recaption/\"\n",
    "    else:\n",
    "        ref_embedding_dir = \"./output/\" + ref_embedding_dir_path + \"/cat_hat_05_08_2024_2045/\"\n",
    "        src_embedding_dir = \"./output/\" + src_embedding_dir_path + \"/dog_hat_05_08_2024_2000/\"\n",
    "\n",
    "        # ref_embedding_dir = \"./output/\" + ref_embedding_dir_path + \"/real-cat-mouse_05_08_2024_1124/\"\n",
    "        # src_embedding_dir = \"./output/\" + src_embedding_dir_path + \"/real-cat_05_08_2024_1102/\"\n",
    "else:\n",
    "    ref_embedding_dir = \"./output/\" + ref_embedding_dir_path + \"/real-cat-mouse_04_27_2024_2325/\"\n",
    "    src_embedding_dir = \"./output/\" + src_embedding_dir_path + \"/real-cat_04_27_2024_2318/\"\n",
    "ref_file_name = get_image_file(os.path.join(_image_dir, _ref_file_name)).split('.')[0]\n",
    "src_file_name = get_image_file(os.path.join(_image_dir, _src_file_name)).split('.')[0]\n",
    "\n",
    "\n",
    "src_embeddings = torch.load(os.path.join(src_embedding_dir, str(steps) + \".bin\"))\n",
    "ref_embeddings = torch.load(os.path.join(ref_embedding_dir, str(steps) + \".bin\"))\n",
    "\n",
    "uncond_input = tokenizer(\n",
    "            [\"\"], padding=\"max_length\",\n",
    "            return_tensors=\"pt\"\n",
    "        )\n",
    "\n",
    "\n",
    "def gen_image(\n",
    "        output_img_path_name,\n",
    "        src_image_path_name,\n",
    "        tar_image_path_name,\n",
    "        src_embedding,\n",
    "        ref_embedding,\n",
    "        null_embeddings,\n",
    "        num_inference_steps,\n",
    "        cfg_guidence=2.0,\n",
    "        tar_weight=2.0,\n",
    "        src_weight=2.0,\n",
    "        save_all=False,\n",
    "):\n",
    "    print(\"loading image\", src_image_path_name)\n",
    "    tar_image = load_512(tar_image_path_name)\n",
    "    src_image = load_512(src_image_path_name)\n",
    "    src_latent = inversion.image2latent(src_image)\n",
    "    tar_latent = inversion.image2latent(tar_image)\n",
    "\n",
    "    \n",
    "    # generate picture\n",
    "    latents = inversion.backward_diffusion_ptp(\n",
    "        src_latent,\n",
    "        tar_latent,\n",
    "        src_embedding,\n",
    "        ref_embedding,\n",
    "        null_embeddings,\n",
    "        num_inference_steps,\n",
    "        cfg_guidence,\n",
    "        tar_weight,\n",
    "        src_weight,\n",
    "        save_all,\n",
    "    )\n",
    "    print(\"latents = \", latents.shape)\n",
    "    if save_all:\n",
    "        for i, latent in enumerate(latents):\n",
    "            images = ptp_utils.latent2image(ldm_stable.vae, latent.detach())\n",
    "            output_img_list = [Image.fromarray(images[0, :, :, :])]\n",
    "            output_img_list[0].save(output_img_path_name[:-4] + \"_\" + str(i) + \".png\")\n",
    "    else:\n",
    "        # save picture\n",
    "        images = ptp_utils.latent2image(ldm_stable.vae, latents.detach())\n",
    "        print(\"saving image\", output_img_path_name)\n",
    "        output_img_list = [Image.fromarray(images[1, :, :, :])]\n",
    "        output_img_list[0].save(output_img_path_name)"
   ]
  },
  {
   "cell_type": "markdown",
   "metadata": {},
   "source": [
    "#### Gen Image"
   ]
  },
  {
   "cell_type": "code",
   "execution_count": null,
   "metadata": {},
   "outputs": [
    {
     "name": "stdout",
     "output_type": "stream",
     "text": [
      "loading image ../examples/dog_hat/dog_hat.jpg\n"
     ]
    },
    {
     "name": "stderr",
     "output_type": "stream",
     "text": [
      "100%|██████████| 20/20 [00:03<00:00,  5.37it/s]\n"
     ]
    },
    {
     "name": "stdout",
     "output_type": "stream",
     "text": [
      "latents =  torch.Size([2, 4, 64, 64])\n",
      "saving image output_images/5-9newdog_hat-cat_hat_1000/DVCT_9-17-17-14_cat_hat_dog_hat-n50-cfg1.png\n"
     ]
    }
   ],
   "source": [
    "null_embeddings = text_encoder(uncond_input.input_ids.to(device))[0]\n",
    "# output_img_dir = \"output_images/5-8cfgtrace-\" + embedding_dir_path + \"_\" + str(steps) + \"/\"\n",
    "output_img_dir = \"output_images/5-9new\" + embedding_dir_path + \"_\" + str(steps) + \"/\"\n",
    "now = datetime.datetime.now()\n",
    "time_smp = str(now.day) + \"-\" + str(now.hour) + \"-\" + str(now.minute) + \"-\" + str(now.second) \n",
    "os.makedirs(output_img_dir, exist_ok=True)\n",
    "test = True\n",
    "src_image_path_name = os.path.join(_image_dir, _src_file_name) + \"/\" + get_image_file(os.path.join(_image_dir, _src_file_name))\n",
    "ref_image_path_name = os.path.join(_image_dir, _ref_file_name) + \"/\" + get_image_file(os.path.join(_image_dir, _ref_file_name))\n",
    "\n",
    "if test:    \n",
    "    gen_image(\n",
    "                output_img_dir + \"DVCT\" + \"_\" + time_smp + \"_\" + ref_file_name + \"_\" + src_file_name \\\n",
    "                + \"-n\" + str(50) + \"-cfg\" + str(1) + \".png\",\n",
    "                src_image_path_name,\n",
    "                ref_image_path_name,\n",
    "                src_embeddings,\n",
    "                ref_embeddings,\n",
    "                null_embeddings=null_embeddings,\n",
    "                num_inference_steps=20,\n",
    "                cfg_guidence= None,\n",
    "                src_weight=None,\n",
    "                tar_weight=1,\n",
    "                save_all=False,\n",
    "            )\n",
    "else:\n",
    "    for i in range (20, 100, 30):\n",
    "        for j in range(1, 5, 1):\n",
    "            gen_image(\n",
    "                output_img_dir + \"DVCT\" + \"_\" + time_smp + \"_\" + ref_file_name + \"_\" + src_file_name \\\n",
    "                + \"-n\" + str(i) + \"-weight\" + str(j / 2) + \".png\",\n",
    "                src_image_path_name,\n",
    "                ref_image_path_name,\n",
    "                src_embeddings,\n",
    "                ref_embeddings,\n",
    "                null_embeddings=null_embeddings,\n",
    "                num_inference_steps=i,\n",
    "                cfg_guidence= None,\n",
    "                weight=j * 1.0/2,\n",
    "                save_all=False,\n",
    "            )"
   ]
  },
  {
   "cell_type": "markdown",
   "metadata": {},
   "source": [
    "#### Gen Image with DIRECT Inversion & Inversion Free"
   ]
  },
  {
   "cell_type": "markdown",
   "metadata": {},
   "source": []
  }
 ],
 "metadata": {
  "kernelspec": {
   "display_name": "Python 3 (ipykernel)",
   "language": "python",
   "name": "python3"
  },
  "language_info": {
   "codemirror_mode": {
    "name": "ipython",
    "version": 3
   },
   "file_extension": ".py",
   "mimetype": "text/x-python",
   "name": "python",
   "nbconvert_exporter": "python",
   "pygments_lexer": "ipython3",
   "version": "3.8.19"
  }
 },
 "nbformat": 4,
 "nbformat_minor": 4
}
