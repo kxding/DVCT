{
 "cells": [
  {
   "cell_type": "code",
   "execution_count": null,
   "id": "initial_id",
   "metadata": {
    "collapsed": true
   },
   "outputs": [],
   "source": [
    "from inversion_free import *\n",
    "from utils import *\n",
    "from transformers.models.clip.modeling_clip import CLIPTextModel\n",
    "from transformers import CLIPTokenizer\n",
    "from diffusers import DDIMScheduler"
   ]
  },
  {
   "cell_type": "code",
   "execution_count": null,
   "outputs": [],
   "source": [
    "# 将 model_path 设置为 Stable-Diffusion-v1.5 的模型路径或名字\n",
    "model_or_name = \"runwayml/stable-diffusion-v1-5\"\n",
    "\n",
    "text_encoder = CLIPTextModel.from_pretrained(model_or_name, subfolder=\"text_encoder\",\n",
    "                                                 revision=False)\n",
    "tokenizer = CLIPTokenizer.from_pretrained(model_or_name, subfolder=\"tokenizer\")\n",
    "scheduler = DDIMScheduler(\n",
    "    beta_start=0.00085, beta_end=0.012, beta_schedule=\"scaled_linear\", \n",
    "    clip_sample=False, set_alpha_to_one=False\n",
    ")\n",
    "model = StableDiffusionPipeline.from_pretrained(\n",
    "    model_or_name, scheduler=scheduler, \n",
    "    text_encoder=text_encoder, tokenizer=tokenizer\n",
    ")"
   ],
   "metadata": {
    "collapsed": false
   },
   "id": "83810ef29e3285d7"
  },
  {
   "cell_type": "code",
   "execution_count": null,
   "outputs": [],
   "source": [
    "# 设置一些路径和参数\n",
    "from datetime import datetime\n",
    "import os\n",
    "\n",
    "device = \"cuda\" if torch.cuda.is_available() else \"cpu\"\n",
    "\n",
    "# 加载图片\n",
    "# 第一级目录\n",
    "img_dir_src_1 = \"./pair/\"\n",
    "img_dir_tar_1 = img_dir_src_1\n",
    "# 第二级目录\n",
    "img_dir_src_2 = \"horse\"\n",
    "src_img_dir = os.path.join(img_dir_src_1, img_dir_src_2)\n",
    "tar_img_dir_2 = \"zebra\"\n",
    "tar_img_dir = os.path.join(img_dir_tar_1, tar_img_dir_2)\n",
    "\n",
    "def get_image_file(path):\n",
    "    img_extensions = ('.png', '.jpg', '.jpeg', '.bmp', '.gif')\n",
    "    img_files = [f for f in os.listdir(path) if f.lower().endswith(img_extensions)]\n",
    "    return img_files[0]\n",
    "\n",
    "src_img_file = get_image_file(src_img_dir)\n",
    "tar_img_file = get_image_file(tar_img_dir)\n",
    "\n",
    "src_latent = img2latent(os.path.join(src_img_dir, src_img_file), model, device)\n",
    "tar_latent = img2latent(os.path.join(tar_img_dir, tar_img_file), model, device)\n",
    "\n",
    "# 加载嵌入向量\n",
    "# 第一级目录\n",
    "embed_dir_src_1 = \"./output/\"\n",
    "embed_dir_tar_1 = embed_dir_src_1\n",
    "\n",
    "# 第二级目录\n",
    "embed_dir_src_2 = \"hrs\"\n",
    "embed_dir_src_2 = os.path.join(embed_dir_src_1, embed_dir_src_2)\n",
    "tar_embed_dir_2 = \"zbr\"\n",
    "tar_embed_dir_2 = os.path.join(embed_dir_tar_1, tar_embed_dir_2)\n",
    "\n",
    "# 嵌入向量名字\n",
    "src_embed_dir = \"horse_04_25_2024_1603\"\n",
    "src_embed_dir = os.path.join(embed_dir_src_2, src_embed_dir)\n",
    "tar_embed_dir = \"zebra_04_25_2024_1557\"\n",
    "tar_embed_dir = os.path.join(tar_embed_dir_2, tar_embed_dir)\n",
    "# 嵌入向量训练步数\n",
    "src_steps = 100\n",
    "tar_steps = src_steps\n",
    "\n",
    "src_embedding = torch.load(os.path.join(src_embed_dir, f\"{src_steps}.bin\"))\n",
    "tar_embedding = torch.load(os.path.join(tar_embed_dir, f\"{tar_steps}.bin\"))"
   ],
   "metadata": {
    "collapsed": false
   },
   "id": "4a46f549390fc345"
  },
  {
   "cell_type": "code",
   "execution_count": null,
   "outputs": [],
   "source": [
    "# 设置输出目录并生成\n",
    "date = datetime.now().strftime(\"%Y-%m-%d\")\n",
    "output_dir = f\"./output_img/{str(date)}-{img_dir_src_2}-to-{tar_img_dir_2}/\"\n",
    "os.makedirs(output_dir, exist_ok=True)\n",
    "\n",
    "time = datetime.now().strftime(\"%H-%M-%S\")\n",
    "num_inference_steps = 20\n",
    "save_all = False\n",
    "\n",
    "# 选择权重的类型\n",
    "inclination = \"src-pose\"\n",
    "mode = \"cosine\"\n",
    "cfg_guidance_scale = 0.7\n",
    "\n",
    "# src 和 tar 方向的系数\n",
    "src_coefficient = 0.5\n",
    "tar_coefficient = 0.5\n",
    "\n",
    "output_img_name = f\"{time}_{src_img_file[:-4]}2{tar_img_file[:-4]}_{num_inference_steps}steps_{inclination[:3]}_{mode[:3]}_cfg{cfg_guidance_scale}_src{src_coefficient}_tar{tar_coefficient}\"\n",
    "\n",
    "# 生成图片\n",
    "latents = gen_inversion_free(\n",
    "    model, src_latent, tar_latent, src_embedding, tar_embedding, \n",
    "    num_inference_steps=num_inference_steps, mode=mode, inclination=inclination,\n",
    "    cfg_guidance=cfg_guidance_scale, src_coef=src_coefficient, tar_coef=tar_coefficient,\n",
    ")\n",
    "\n",
    "if save_all:\n",
    "    for i, latent in enumerate(latents):\n",
    "        img = latent2img(latent, model)\n",
    "        print(f\"Saving {output_img_name}_{i}.png in {output_dir}\")\n",
    "        img.save(os.path.join(output_dir, f\"{output_img_name}_{i}.png\"))\n",
    "else:\n",
    "    img = latent2img(latents[-1], model)\n",
    "    print(f\"Saving {output_img_name}.png in {output_dir}\")\n",
    "    img.save(os.path.join(output_dir, f\"{output_img_name}.png\"))"
   ],
   "metadata": {
    "collapsed": false
   },
   "id": "d163cc670ff39824"
  }
 ],
 "metadata": {
  "kernelspec": {
   "display_name": "Python 3",
   "language": "python",
   "name": "python3"
  },
  "language_info": {
   "codemirror_mode": {
    "name": "ipython",
    "version": 2
   },
   "file_extension": ".py",
   "mimetype": "text/x-python",
   "name": "python",
   "nbconvert_exporter": "python",
   "pygments_lexer": "ipython2",
   "version": "2.7.6"
  }
 },
 "nbformat": 4,
 "nbformat_minor": 5
}
